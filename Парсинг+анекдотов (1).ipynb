{
 "cells": [
  {
   "cell_type": "markdown",
   "metadata": {},
   "source": [
    "В один прекрасный день мне понадобилась база данных с анекдотами. Если быть точным, я решил добавить в своего голосового ассистента функцию, которая по запросу \"Расскажи анекдот\" выдавала бы случайный анекдот. Пользоваться данной функцией приходилось в местах, где нет интернета, поэтому было решено спарсить базу анекдотов, желательно большого размера.\n",
    "\n",
    "Я решил парсить сайт http://anekdotme.ru/random на странице которого при каждом обращении случайным образом показывались 30 анекдотов.\n",
    "\n",
    "Недолго думая я набросал скрипт на Python который парсит базу и получает на выходе .db файл содержащий 90 тысяч анекдотов. Время парсинга такого огромного количества анекдотов - примерно 3-4 часа, причем желательно не выключать скрипт, не дождавшись пока он не отработает до конца.\n"
   ]
  },
  {
   "cell_type": "markdown",
   "metadata": {},
   "source": [
    "Оригинал текста взят с сайта https://pythono.ru/parsing-python-bs4/"
   ]
  },
  {
   "cell_type": "code",
   "execution_count": null,
   "metadata": {},
   "outputs": [],
   "source": [
    "import requests, bs4\n",
    "import sqlite3\n",
    "import re\n",
    "import time\n",
    "\n",
    "from random import randint\n",
    "from time import sleep\n",
    "\n",
    "connection = sqlite3.connect('anekdot.db')\n",
    "cursor = connection.cursor()\n",
    "cursor.executescript(\"\"\"create table anekdot(\n",
    "        id int auto_increment primary key, anekdot longtext );\"\"\")\n",
    "z=0\n",
    "for i in range(4000):\n",
    "    sleep(randint(1,10))\n",
    "    z=z+1\n",
    "    s=requests.get('http://anekdotme.ru/random')\n",
    "    b=bs4.BeautifulSoup(s.text, \"html.parser\")\n",
    "    p=b.select('.anekdot_text')\n",
    "    for x in p:        \n",
    "        s=(x.getText().strip())\n",
    "        reg = re.compile('[^a-zA-Zа-яА-я .,!]')\n",
    "        s=reg.sub('', s)\n",
    "        cursor.execute(\"INSERT INTO anekdot (anekdot) VALUES ('\"+s+\"')\")\n",
    "        connection.commit()\n",
    "    print(z)\n",
    "connection.close()"
   ]
  },
  {
   "cell_type": "markdown",
   "metadata": {},
   "source": [
    "При каждом запуске скрипт покажет нам случайный анекдот из спарсенной базы. Что делать с такой базой? Да что угодно - так как формат SQLi довольно хорошо поддерживается во всех языках программирования, можно создать себе на сайт виджет случайного анекдота с помощью PHP, запилить оффлайн-сборник анекдотов для Android или iOS. \n"
   ]
  },
  {
   "cell_type": "code",
   "execution_count": 6,
   "metadata": {},
   "outputs": [
    {
     "name": "stdout",
     "output_type": "stream",
     "text": [
      "Жена спрашивает у мужа   Вася, а как там на шахте, расскажи   Я лучше покажу... Закрывает ее в шкаф и начинает лупить ломом по шкафу, поливать водой, трясти его, через полчаса открыл, жена выпала без чувств и лежит. Муж взял, да и поимел ее. Жена очухалась и спрашивает   Мне все стало понятно, но иметьто меня зачем было!   За ранний выход из шахты!..\n"
     ]
    }
   ],
   "source": [
    "import sqlite3\n",
    "import random\n",
    "connection = sqlite3.connect('anekdot.db')\n",
    "cursor = connection.cursor()\n",
    "z=random.randrange(1,100,1)\n",
    "cursor.execute('SELECT * FROM anekdot WHERE rowid='+str(z))\n",
    "row = cursor.fetchone()\n",
    "print(str(row[1]))\n",
    "connection.close()"
   ]
  },
  {
   "cell_type": "code",
   "execution_count": null,
   "metadata": {
    "collapsed": true
   },
   "outputs": [],
   "source": []
  }
 ],
 "metadata": {
  "kernelspec": {
   "display_name": "Python 3",
   "language": "python",
   "name": "python3"
  },
  "language_info": {
   "codemirror_mode": {
    "name": "ipython",
    "version": 3
   },
   "file_extension": ".py",
   "mimetype": "text/x-python",
   "name": "python",
   "nbconvert_exporter": "python",
   "pygments_lexer": "ipython3",
   "version": "3.6.6"
  }
 },
 "nbformat": 4,
 "nbformat_minor": 2
}
